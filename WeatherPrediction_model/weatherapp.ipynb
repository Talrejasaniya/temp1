{
 "cells": [
  {
   "cell_type": "code",
   "execution_count": 4,
   "id": "3cb3961f-e8f1-422d-a0dd-700462d4aafa",
   "metadata": {},
   "outputs": [
    {
     "name": "stdout",
     "output_type": "stream",
     "text": [
      "       Temperature  Humidity  Wind Speed  Precipitation (%)    Cloud Cover  \\\n",
      "0             14.0        73         9.5               82.0  partly cloudy   \n",
      "1             39.0        96         8.5               71.0  partly cloudy   \n",
      "2             30.0        64         7.0               16.0          clear   \n",
      "3             38.0        83         1.5               82.0          clear   \n",
      "4             27.0        74        17.0               66.0       overcast   \n",
      "...            ...       ...         ...                ...            ...   \n",
      "13195         10.0        74        14.5               71.0       overcast   \n",
      "13196         -1.0        76         3.5               23.0         cloudy   \n",
      "13197         30.0        77         5.5               28.0       overcast   \n",
      "13198          3.0        76        10.0               94.0       overcast   \n",
      "13199         -5.0        38         0.0               92.0       overcast   \n",
      "\n",
      "       Atmospheric Pressure  UV Index  Season  Visibility (km)  Location  \\\n",
      "0                   1010.82         2  Winter              3.5    inland   \n",
      "1                   1011.43         7  Spring             10.0    inland   \n",
      "2                   1018.72         5  Spring              5.5  mountain   \n",
      "3                   1026.25         7  Spring              1.0   coastal   \n",
      "4                    990.67         1  Winter              2.5  mountain   \n",
      "...                     ...       ...     ...              ...       ...   \n",
      "13195               1003.15         1  Summer              1.0  mountain   \n",
      "13196               1067.23         1  Winter              6.0   coastal   \n",
      "13197               1012.69         3  Autumn              9.0   coastal   \n",
      "13198                984.27         0  Winter              2.0    inland   \n",
      "13199               1015.37         5  Autumn             10.0  mountain   \n",
      "\n",
      "      Weather Type  \n",
      "0            Rainy  \n",
      "1           Cloudy  \n",
      "2            Sunny  \n",
      "3            Sunny  \n",
      "4            Rainy  \n",
      "...            ...  \n",
      "13195        Rainy  \n",
      "13196        Snowy  \n",
      "13197       Cloudy  \n",
      "13198        Snowy  \n",
      "13199        Rainy  \n",
      "\n",
      "[13200 rows x 11 columns]\n"
     ]
    }
   ],
   "source": [
    "import pandas as pd\n",
    "df=pd.read_csv(\"weather_classification_data.csv\")\n",
    "print(df)"
   ]
  },
  {
   "cell_type": "code",
   "execution_count": 10,
   "id": "7219bf5c-1e3d-467f-bdee-e78c6c25bde5",
   "metadata": {},
   "outputs": [
    {
     "name": "stdout",
     "output_type": "stream",
     "text": [
      "       Temperature  Humidity  Wind Speed  Precipitation (%)    Cloud Cover  \\\n",
      "0             14.0        73         9.5               82.0  partly cloudy   \n",
      "1             39.0        96         8.5               71.0  partly cloudy   \n",
      "2             30.0        64         7.0               16.0          clear   \n",
      "3             38.0        83         1.5               82.0          clear   \n",
      "4             27.0        74        17.0               66.0       overcast   \n",
      "...            ...       ...         ...                ...            ...   \n",
      "13195         10.0        74        14.5               71.0       overcast   \n",
      "13196         -1.0        76         3.5               23.0         cloudy   \n",
      "13197         30.0        77         5.5               28.0       overcast   \n",
      "13198          3.0        76        10.0               94.0       overcast   \n",
      "13199         -5.0        38         0.0               92.0       overcast   \n",
      "\n",
      "       Season  Location Weather Type  \n",
      "0      Winter    inland        Rainy  \n",
      "1      Spring    inland       Cloudy  \n",
      "2      Spring  mountain        Sunny  \n",
      "3      Spring   coastal        Sunny  \n",
      "4      Winter  mountain        Rainy  \n",
      "...       ...       ...          ...  \n",
      "13195  Summer  mountain        Rainy  \n",
      "13196  Winter   coastal        Snowy  \n",
      "13197  Autumn   coastal       Cloudy  \n",
      "13198  Winter    inland        Snowy  \n",
      "13199  Autumn  mountain        Rainy  \n",
      "\n",
      "[13200 rows x 8 columns]\n"
     ]
    }
   ],
   "source": [
    " selected_feature=['Temperature','Humidity','Wind Speed','Precipitation (%)','Cloud Cover','Season','Location']\n",
    "target_column='Weather Type'\n",
    "df_selected=df[selected_feature+[target_column]]\n",
    "print(df_selected)"
   ]
  },
  {
   "cell_type": "code",
   "execution_count": 12,
   "id": "0f2356f2-761b-4e75-b4f1-ad4609a67cf7",
   "metadata": {},
   "outputs": [
    {
     "name": "stdout",
     "output_type": "stream",
     "text": [
      "Temperature          0\n",
      "Humidity             0\n",
      "Wind Speed           0\n",
      "Precipitation (%)    0\n",
      "Cloud Cover          0\n",
      "Season               0\n",
      "Location             0\n",
      "Weather Type         0\n",
      "dtype: int64\n"
     ]
    }
   ],
   "source": [
    "print(df_selected.isnull().sum())"
   ]
  },
  {
   "cell_type": "code",
   "execution_count": 22,
   "id": "dd338298-9a33-4743-ae80-3f3e46cde716",
   "metadata": {},
   "outputs": [
    {
     "name": "stdout",
     "output_type": "stream",
     "text": [
      "0    3\n",
      "1    1\n",
      "2    1\n",
      "3    1\n",
      "4    3\n",
      "Name: Season, dtype: int64\n"
     ]
    }
   ],
   "source": [
    "from sklearn.preprocessing import LabelEncoder\n",
    "encoder={}\n",
    "for colu in ['Cloud Cover','Season','Location','Weather Type']:\n",
    "    le=LabelEncoder()\n",
    "    df_selected.loc[:,colu]=le.fit_transform(df_selected[colu])\n",
    "    encoder[colu]=le\n",
    "print(df_selected['Season'].head())"
   ]
  },
  {
   "cell_type": "code",
   "execution_count": 24,
   "id": "85f69d3d-aa8a-4b2a-914c-c3925cce950d",
   "metadata": {},
   "outputs": [
    {
     "name": "stdout",
     "output_type": "stream",
     "text": [
      "[3 1 2 0]\n"
     ]
    }
   ],
   "source": [
    "print(df_selected['Season'].unique())"
   ]
  },
  {
   "cell_type": "code",
   "execution_count": 34,
   "id": "a6bf9be7-d91a-484b-98b7-de52105430d8",
   "metadata": {},
   "outputs": [
    {
     "name": "stdout",
     "output_type": "stream",
     "text": [
      "[0 1 2 3]\n"
     ]
    }
   ],
   "source": [
    "print(encoder['Season'].inverse_transform([0,1,2,3]))"
   ]
  },
  {
   "cell_type": "code",
   "execution_count": 36,
   "id": "07fa5a84-ee87-4a7d-8fd7-bfa308aebfbf",
   "metadata": {},
   "outputs": [],
   "source": [
    "from sklearn.preprocessing import LabelEncoder\n",
    "\n",
    "encoder = {}\n",
    "for colu in ['Cloud Cover', 'Season', 'Location', 'Weather Type']:\n",
    "    le = LabelEncoder()\n",
    "    le.fit(df[colu])  # ✅ Use original unencoded column from full df\n",
    "    df_selected.loc[:, colu] = le.transform(df[colu])  # ✅ Apply transform separately\n",
    "    encoder[colu] = le"
   ]
  },
  {
   "cell_type": "code",
   "execution_count": 38,
   "id": "d54aaf3c-b999-4089-a5b8-aae68139d33c",
   "metadata": {},
   "outputs": [
    {
     "name": "stdout",
     "output_type": "stream",
     "text": [
      "['Autumn' 'Spring' 'Summer' 'Winter']\n"
     ]
    }
   ],
   "source": [
    "print(encoder['Season'].inverse_transform([0, 1, 2, 3]))\n"
   ]
  },
  {
   "cell_type": "code",
   "execution_count": 40,
   "id": "1d3aa2f7-8aaf-442a-8fc8-84c0c18b7e94",
   "metadata": {},
   "outputs": [
    {
     "name": "stdout",
     "output_type": "stream",
     "text": [
      "['Autumn' 'Spring' 'Summer' 'Winter']\n"
     ]
    }
   ],
   "source": [
    "print(encoder['Season'].classes_)\n"
   ]
  },
  {
   "cell_type": "code",
   "execution_count": 48,
   "id": "d93cc7cb-acb3-4857-8112-ca33c29259ff",
   "metadata": {},
   "outputs": [
    {
     "name": "stdout",
     "output_type": "stream",
     "text": [
      "Accuracy:  0.834469696969697\n",
      "\n",
      "Classification Report: \n",
      "              precision    recall  f1-score   support\n",
      "\n",
      "           0       0.75      0.80      0.78       651\n",
      "           1       0.81      0.79      0.80       647\n",
      "           2       0.91      0.94      0.93       701\n",
      "           3       0.86      0.80      0.83       641\n",
      "\n",
      "    accuracy                           0.83      2640\n",
      "   macro avg       0.83      0.83      0.83      2640\n",
      "weighted avg       0.84      0.83      0.83      2640\n",
      "\n"
     ]
    }
   ],
   "source": [
    "from sklearn.model_selection import train_test_split\n",
    "from sklearn.naive_bayes import GaussianNB\n",
    "from sklearn.metrics import accuracy_score,classification_report\n",
    "\n",
    "x=df_selected.drop('Weather Type',axis=1)\n",
    "y=df_selected['Weather Type']\n",
    "\n",
    "x_train,x_test,y_train,y_test=train_test_split(x,y,test_size=0.2,random_state=42)\n",
    "\n",
    "model=GaussianNB()\n",
    "model.fit(x_train,y_train)\n",
    "y_pred=model.predict(x_test)\n",
    "\n",
    "accuracy=accuracy_score(y_test,y_pred)\n",
    "print(\"Accuracy: \",accuracy)\n",
    "\n",
    "print(\"\\nClassification Report: \")\n",
    "print(classification_report(y_test,y_pred))"
   ]
  },
  {
   "cell_type": "code",
   "execution_count": 52,
   "id": "42e1e601-fd76-4d55-88cb-30e48bab1ddf",
   "metadata": {},
   "outputs": [
    {
     "name": "stdout",
     "output_type": "stream",
     "text": [
      "['Cloudy' 'Rainy' 'Snowy' 'Sunny']\n"
     ]
    }
   ],
   "source": [
    "print(encoder['Weather Type'].classes_)"
   ]
  },
  {
   "cell_type": "code",
   "execution_count": 60,
   "id": "1eb803a6-89cf-41be-9c81-1e40c72d7526",
   "metadata": {},
   "outputs": [
    {
     "data": {
      "image/png": "[encoded data removed]",
      "text/plain": [
       "<Figure size 640x480 with 2 Axes>"
      ]
     },
     "metadata": {},
     "output_type": "display_data"
    }
   ],
   "source": [
    "from sklearn.metrics import confusion_matrix,ConfusionMatrixDisplay\n",
    "import matplotlib.pyplot as plt\n",
    "\n",
    "cm=confusion_matrix(y_test,y_pred)\n",
    "\n",
    "disp=ConfusionMatrixDisplay(confusion_matrix=cm,display_labels=encoder['Weather Type'].classes_)\n",
    "\n",
    "disp.plot(cmap='Blues')\n",
    "plt.title('Confusion Matrix - Weather Prediction')\n",
    "plt.show()"
   ]
  },
  {
   "cell_type": "code",
   "execution_count": null,
   "id": "af5fbead-7d28-4f3d-80c0-3bbf41b0a7f4",
   "metadata": {},
   "outputs": [],
   "source": []
  }
 ],
 "metadata": {
  "kernelspec": {
   "display_name": "Python 3 (ipykernel)",
   "language": "python",
   "name": "python3"
  },
  "language_info": {
   "codemirror_mode": {
    "name": "ipython",
    "version": 3
   },
   "file_extension": ".py",
   "mimetype": "text/x-python",
   "name": "python",
   "nbconvert_exporter": "python",
   "pygments_lexer": "ipython3",
   "version": "3.12.4"
  }
 },
 "nbformat": 4,
 "nbformat_minor": 5
}
